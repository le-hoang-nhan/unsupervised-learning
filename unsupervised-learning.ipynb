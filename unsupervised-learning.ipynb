{
 "cells": [
  {
   "cell_type": "code",
   "execution_count": 103,
   "metadata": {
    "collapsed": true
   },
   "outputs": [
    {
     "name": "stdout",
     "output_type": "stream",
     "text": [
      "C:\\Users\\LE HOANG NHAN\\PycharmProjects\\merging-dataframes -- Olympic data\n",
      "['.idea', '.ipynb_checkpoints', 'auto-mpg.csv', 'axis_limits.png', 'Bruce_McCandless_II_during_EVA_in_1984.jpg', 'company-stock-movements-2010-2015-incl.csv', 'finch_beaks_1975.csv', 'finch_beaks_2012.csv', 'fish.csv', 'gm_2008_region.csv', 'house-votes-84.csv', 'iris.csv', 'merging-dataframes-- Olympic data.ipynb', 'percent-bachelors-degrees-women-usa.csv', 'Plotting 2D arrays.ipynb', 'seeds.csv', 'sine_mesh.png', \"statistic with Darwin's finches.ipynb\", 'stocks.csv', 'Summer Olympic medalists 1896 to 2008 - IOC COUNTRY CODES.csv', 'Summer Olympic medallists 1896 to 2008 - EDITIONS.csv', 'supervised-learning-with-scikit-learn.ipynb', 'unsupervised-learning.ipynb', 'venv', 'white-wine.csv', 'women degrees.ipynb', 'xlim_and_ylim.png']\n"
     ]
    }
   ],
   "source": [
    "import os\n",
    "import matplotlib.pyplot as plt\n",
    "import seaborn as sns\n",
    "import pandas as pd\n",
    "import numpy as np\n",
    "%matplotlib inline\n",
    "print(os.getcwd())\n",
    "print(os.listdir(os.getcwd()))"
   ]
  },
  {
   "cell_type": "code",
   "execution_count": 104,
   "metadata": {},
   "outputs": [
    {
     "name": "stderr",
     "output_type": "stream",
     "text": [
      "C:\\Users\\LE HOANG NHAN\\PycharmProjects\\merging-dataframes -- Olympic data\\venv\\lib\\site-packages\\ipykernel_launcher.py:4: FutureWarning: Method .as_matrix will be removed in a future version. Use .values instead.\n",
      "  after removing the cwd from sys.path.\n"
     ]
    }
   ],
   "source": [
    "# Read in the data file: df\n",
    "seeds = pd.read_csv('seeds.csv', header=None)\n",
    "samples = seeds.iloc[:,0:7]\n",
    "samples = samples.as_matrix()"
   ]
  },
  {
   "cell_type": "code",
   "execution_count": 105,
   "metadata": {},
   "outputs": [
    {
     "data": {
      "image/png": "[encoded data removed]",
      "text/plain": [
       "<Figure size 432x288 with 1 Axes>"
      ]
     },
     "metadata": {},
     "output_type": "display_data"
    }
   ],
   "source": [
    "#How many clusters of grain?\n",
    "\n",
    "from sklearn.cluster import KMeans\n",
    "\n",
    "ks = range(1, 6)\n",
    "inertias = []\n",
    "\n",
    "for k in ks:\n",
    "    # Create a KMeans instance with k clusters: model\n",
    "    model = KMeans(n_clusters=k)\n",
    "    \n",
    "    # Fit model to samples\n",
    "    model.fit(samples)\n",
    "    \n",
    "    # Append the inertia to the list of inertias\n",
    "    inertias.append(model.inertia_)\n",
    "    \n",
    "# Plot ks vs inertias\n",
    "plt.plot(ks, inertias, '-o')\n",
    "plt.xlabel('number of clusters, k')\n",
    "plt.ylabel('inertia')\n",
    "plt.xticks(ks)\n",
    "plt.show()\n"
   ]
  },
  {
   "cell_type": "code",
   "execution_count": 106,
   "metadata": {},
   "outputs": [
    {
     "name": "stdout",
     "output_type": "stream",
     "text": [
      "varieties   1   2   3\n",
      "labels               \n",
      "0           9   0  68\n",
      "1           1  60   0\n",
      "2          60  10   2\n"
     ]
    }
   ],
   "source": [
    "#Evaluating the grain clustering\n",
    "\n",
    "varieties= list(seeds[7])\n",
    "\n",
    "# Create a KMeans model with 3 clusters: model\n",
    "model = KMeans(n_clusters=3)\n",
    "\n",
    "# Use fit_predict to fit model and obtain cluster labels: labels\n",
    "labels = model.fit_predict(samples)\n",
    "\n",
    "# Create a DataFrame with labels and varieties as columns: df\n",
    "df = pd.DataFrame({'labels': labels, 'varieties': varieties})\n",
    "\n",
    "# Create crosstab: ct\n",
    "ct = pd.crosstab(df['labels'], df['varieties'])\n",
    "\n",
    "# Display ct\n",
    "print(ct)"
   ]
  },
  {
   "cell_type": "code",
   "execution_count": 72,
   "metadata": {},
   "outputs": [
    {
     "name": "stderr",
     "output_type": "stream",
     "text": [
      "C:\\Users\\LE HOANG NHAN\\PycharmProjects\\merging-dataframes -- Olympic data\\venv\\lib\\site-packages\\ipykernel_launcher.py:4: FutureWarning: Method .as_matrix will be removed in a future version. Use .values instead.\n",
      "  after removing the cwd from sys.path.\n"
     ]
    }
   ],
   "source": [
    "# Read in the data file: df\n",
    "fish = pd.read_csv('fish.csv', header=None)\n",
    "samples = fish.iloc[:,1:7]\n",
    "samples = samples.as_matrix()\n"
   ]
  },
  {
   "cell_type": "code",
   "execution_count": 73,
   "metadata": {},
   "outputs": [],
   "source": [
    "# Scaling fish data for clustering\n",
    "\n",
    "# Perform the necessary imports\n",
    "from sklearn.pipeline import make_pipeline\n",
    "from sklearn.preprocessing import StandardScaler\n",
    "from sklearn.cluster import KMeans\n",
    "\n",
    "# Create scaler: scaler\n",
    "scaler = StandardScaler()\n",
    "\n",
    "# Create KMeans instance: kmeans\n",
    "kmeans = KMeans(n_clusters= 4)\n",
    "\n",
    "# Create pipeline: pipeline\n",
    "pipeline = make_pipeline(scaler, kmeans)\n"
   ]
  },
  {
   "cell_type": "code",
   "execution_count": 76,
   "metadata": {},
   "outputs": [
    {
     "name": "stdout",
     "output_type": "stream",
     "text": [
      "species  Bream  Pike  Roach  Smelt\n",
      "labels                            \n",
      "0            1     0     19      1\n",
      "1           33     0      1      0\n",
      "2            0    17      0      0\n",
      "3            0     0      0     13\n"
     ]
    }
   ],
   "source": [
    "#Clustering the fish data\n",
    "\n",
    "species= list(fish[0])\n",
    "\n",
    "# Fit the pipeline to samples\n",
    "pipeline.fit(samples)\n",
    "\n",
    "# Calculate the cluster labels: labels\n",
    "labels = pipeline.predict(samples)\n",
    "\n",
    "# Create a DataFrame with labels and species as columns: df\n",
    "df = pd.DataFrame({'labels': labels, 'species': species})\n",
    "\n",
    "# Create crosstab: ct\n",
    "ct = pd.crosstab(df['labels'], df['species'])\n",
    "\n",
    "# Display ct\n",
    "print(ct)"
   ]
  },
  {
   "cell_type": "code",
   "execution_count": 81,
   "metadata": {},
   "outputs": [
    {
     "name": "stdout",
     "output_type": "stream",
     "text": [
      "         Unnamed: 0  2010-01-04  2010-01-05  2010-01-06  2010-01-07  \\\n",
      "0             Apple    0.580000   -0.220005   -3.409998   -1.170000   \n",
      "1               AIG   -0.640002   -0.650000   -0.210001   -0.420000   \n",
      "2            Amazon   -2.350006    1.260009   -2.350006   -2.009995   \n",
      "3  American express    0.109997    0.000000    0.260002    0.720002   \n",
      "4            Boeing    0.459999    1.770000    1.549999    2.690003   \n",
      "\n",
      "   2010-01-08  2010-01-11  2010-01-12  2010-01-13  2010-01-14  ...  \\\n",
      "0    1.680011   -2.689994   -1.469994    2.779997   -0.680003  ...   \n",
      "1    0.710001   -0.200001   -1.130001    0.069999   -0.119999  ...   \n",
      "2    2.960006   -2.309997   -1.640007    1.209999   -1.790001  ...   \n",
      "3    0.190003   -0.270001    0.750000    0.300004    0.639999  ...   \n",
      "4    0.059997   -1.080002    0.360000    0.549999    0.530002  ...   \n",
      "\n",
      "   2013-10-16  2013-10-17  2013-10-18  2013-10-21  2013-10-22  2013-10-23  \\\n",
      "0    0.320008    4.519997    2.899987    9.590019   -6.540016    5.959976   \n",
      "1    0.919998    0.709999    0.119999   -0.480000    0.010002   -0.279998   \n",
      "2    2.109985    3.699982    9.570008   -3.450013    4.820008   -4.079986   \n",
      "3    0.680001    2.290001    0.409996   -0.069999    0.100006    0.069999   \n",
      "4    1.559997    2.480003    0.019997   -1.220001    0.480003    3.020004   \n",
      "\n",
      "   2013-10-24  2013-10-25  2013-10-28  2013-10-29  \n",
      "0    6.910011   -5.359962    0.840019  -19.589981  \n",
      "1   -0.190003   -0.040001   -0.400002    0.660000  \n",
      "2    2.579986    4.790009   -1.760009    3.740021  \n",
      "3    0.130005    1.849999    0.040001    0.540001  \n",
      "4   -0.029999    1.940002    1.130005    0.309998  \n",
      "\n",
      "[5 rows x 964 columns]\n",
      "[[ 5.8000000e-01 -2.2000500e-01 -3.4099980e+00 ... -5.3599620e+00\n",
      "   8.4001900e-01 -1.9589981e+01]\n",
      " [-6.4000200e-01 -6.5000000e-01 -2.1000100e-01 ... -4.0001000e-02\n",
      "  -4.0000200e-01  6.6000000e-01]\n",
      " [-2.3500060e+00  1.2600090e+00 -2.3500060e+00 ...  4.7900090e+00\n",
      "  -1.7600090e+00  3.7400210e+00]\n",
      " ...\n",
      " [ 4.3000100e-01  2.2999600e-01  5.7000000e-01 ... -2.6000200e-01\n",
      "   4.0000100e-01  4.8000300e-01]\n",
      " [ 9.0000000e-02  1.0000000e-02 -8.0000000e-02 ... -3.0000000e-02\n",
      "   2.0000000e-02 -3.0000000e-02]\n",
      " [ 1.5999900e-01  1.0001000e-02  0.0000000e+00 ... -6.0001000e-02\n",
      "   2.5999800e-01  9.9998000e-02]]\n"
     ]
    },
    {
     "name": "stderr",
     "output_type": "stream",
     "text": [
      "C:\\Users\\LE HOANG NHAN\\PycharmProjects\\merging-dataframes -- Olympic data\\venv\\lib\\site-packages\\ipykernel_launcher.py:5: FutureWarning: Method .as_matrix will be removed in a future version. Use .values instead.\n",
      "  \"\"\"\n"
     ]
    }
   ],
   "source": [
    "# Read in the data file: df\n",
    "stocks = pd.read_csv('company-stock-movements-2010-2015-incl.csv')\n",
    "print(stocks.head())\n",
    "movements = stocks.iloc[:,1:]\n",
    "movements = movements.as_matrix()\n",
    "print(movements)"
   ]
  },
  {
   "cell_type": "code",
   "execution_count": 82,
   "metadata": {},
   "outputs": [
    {
     "data": {
      "text/plain": [
       "Pipeline(memory=None,\n",
       "     steps=[('normalizer', Normalizer(copy=True, norm='l2')), ('kmeans', KMeans(algorithm='auto', copy_x=True, init='k-means++', max_iter=300,\n",
       "    n_clusters=10, n_init=10, n_jobs=None, precompute_distances='auto',\n",
       "    random_state=None, tol=0.0001, verbose=0))])"
      ]
     },
     "execution_count": 82,
     "metadata": {},
     "output_type": "execute_result"
    }
   ],
   "source": [
    "#Clustering stocks using KMeans\n",
    "\n",
    "# Import Normalizer\n",
    "from sklearn.preprocessing import Normalizer\n",
    "\n",
    "# Create a normalizer: normalizer\n",
    "normalizer = Normalizer()\n",
    "\n",
    "# Create a KMeans model with 10 clusters: kmeans\n",
    "kmeans = KMeans(n_clusters=10)\n",
    "\n",
    "# Make a pipeline chaining normalizer and kmeans: pipeline\n",
    "pipeline = make_pipeline(normalizer,kmeans)\n",
    "\n",
    "# Fit pipeline to the daily price movements\n",
    "pipeline.fit(movements)"
   ]
  },
  {
   "cell_type": "code",
   "execution_count": 89,
   "metadata": {
    "collapsed": false
   },
   "outputs": [
    {
     "name": "stdout",
     "output_type": "stream",
     "text": [
      "['Apple', 'AIG', 'Amazon', 'American express', 'Boeing', 'Bank of America', 'British American Tobacco', 'Canon', 'Caterpillar', 'Colgate-Palmolive', 'ConocoPhillips', 'Cisco', 'Chevron', 'DuPont de Nemours', 'Dell', 'Ford', 'General Electrics', 'Google/Alphabet', 'Goldman Sachs', 'GlaxoSmithKline', 'Home Depot', 'Honda', 'HP', 'IBM', 'Intel', 'Johnson & Johnson', 'JPMorgan Chase', 'Kimberly-Clark', 'Coca Cola', 'Lookheed Martin', 'MasterCard', 'McDonalds', '3M', 'Microsoft', 'Mitsubishi', 'Navistar', 'Northrop Grumman', 'Novartis', 'Pepsi', 'Pfizer', 'Procter Gamble', 'Philip Morris', 'Royal Dutch Shell', 'SAP', 'Schlumberger', 'Sony', 'Sanofi-Aventis', 'Symantec', 'Toyota', 'Total', 'Taiwan Semiconductor Manufacturing', 'Texas instruments', 'Unilever', 'Valero Energy', 'Walgreen', 'Wells Fargo', 'Wal-Mart', 'Exxon', 'Xerox', 'Yahoo']\n",
      "    labels                           companies\n",
      "49       0                               Total\n",
      "57       0                               Exxon\n",
      "35       0                            Navistar\n",
      "53       0                       Valero Energy\n",
      "10       0                      ConocoPhillips\n",
      "44       0                        Schlumberger\n",
      "12       0                             Chevron\n",
      "25       1                   Johnson & Johnson\n",
      "54       1                            Walgreen\n",
      "27       1                      Kimberly-Clark\n",
      "56       1                            Wal-Mart\n",
      "39       1                              Pfizer\n",
      "40       1                      Procter Gamble\n",
      "34       2                          Mitsubishi\n",
      "22       2                                  HP\n",
      "21       2                               Honda\n",
      "15       2                                Ford\n",
      "45       2                                Sony\n",
      "7        2                               Canon\n",
      "48       2                              Toyota\n",
      "42       3                   Royal Dutch Shell\n",
      "19       3                     GlaxoSmithKline\n",
      "52       3                            Unilever\n",
      "37       3                            Novartis\n",
      "6        3            British American Tobacco\n",
      "46       3                      Sanofi-Aventis\n",
      "41       3                       Philip Morris\n",
      "33       4                           Microsoft\n",
      "43       4                                 SAP\n",
      "47       4                            Symantec\n",
      "32       4                                  3M\n",
      "59       4                               Yahoo\n",
      "30       4                          MasterCard\n",
      "2        4                              Amazon\n",
      "3        4                    American express\n",
      "8        4                         Caterpillar\n",
      "11       4                               Cisco\n",
      "13       4                   DuPont de Nemours\n",
      "14       4                                Dell\n",
      "31       4                           McDonalds\n",
      "16       4                   General Electrics\n",
      "20       4                          Home Depot\n",
      "23       4                                 IBM\n",
      "58       4                               Xerox\n",
      "24       5                               Intel\n",
      "50       5  Taiwan Semiconductor Manufacturing\n",
      "51       5                   Texas instruments\n",
      "18       6                       Goldman Sachs\n",
      "5        6                     Bank of America\n",
      "26       6                      JPMorgan Chase\n",
      "1        6                                 AIG\n",
      "55       6                         Wells Fargo\n",
      "29       7                     Lookheed Martin\n",
      "36       7                    Northrop Grumman\n",
      "4        7                              Boeing\n",
      "17       8                     Google/Alphabet\n",
      "0        8                               Apple\n",
      "28       9                           Coca Cola\n",
      "9        9                   Colgate-Palmolive\n",
      "38       9                               Pepsi\n"
     ]
    }
   ],
   "source": [
    "#Which stocks move together?\n",
    "\n",
    "companies=list(stocks.iloc[:,0])\n",
    "print(companies)\n",
    "# Predict the cluster labels: labels\n",
    "labels = pipeline.predict(movements)\n",
    "\n",
    "# Create a DataFrame aligning labels and companies: df\n",
    "df = pd.DataFrame({'labels': labels, 'companies': companies})\n",
    "\n",
    "# Display df sorted by cluster label\n",
    "print(df.sort_values('labels'))"
   ]
  },
  {
   "cell_type": "code",
   "execution_count": null,
   "metadata": {},
   "outputs": [],
   "source": []
  }
 ],
 "metadata": {
  "kernelspec": {
   "display_name": "Python 3.7.6 64-bit",
   "language": "python",
   "name": "python3"
  },
  "language_info": {
   "codemirror_mode": {
    "name": "ipython",
    "version": 2
   },
   "file_extension": ".py",
   "mimetype": "text/x-python",
   "name": "python",
   "nbconvert_exporter": "python",
   "pygments_lexer": "ipython2",
   "version": "3.7.6"
  },
  "vscode": {
   "interpreter": {
    "hash": "d49c3f6d6dd49f9272b571d9fad348ab55b8c6c3f691520d74ed0af1f69c3dd8"
   }
  }
 },
 "nbformat": 4,
 "nbformat_minor": 0
}
